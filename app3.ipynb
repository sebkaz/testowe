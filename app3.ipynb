{
 "cells": [
  {
   "cell_type": "markdown",
   "id": "07672793-8095-452e-a6fa-56feb261e389",
   "metadata": {},
   "source": [
    "## Schema\n",
    "\n",
    "Our data contains the fields `Date,Open,High,Low,Close,Adj Close,Volume` and we will extract Name from the filename using a custom function."
   ]
  },
  {
   "cell_type": "code",
   "execution_count": null,
   "id": "9f18e001-6249-4b41-b506-014dceb93731",
   "metadata": {
    "tags": []
   },
   "outputs": [],
   "source": [
    "from pyspark.sql import SparkSession\n",
    "from pyspark.sql import functions as f\n",
    "\n",
    "spark = SparkSession\\\n",
    "        .builder\\\n",
    "        .master(\"local\")\\\n",
    "        .appName(\"FileSource\")\\\n",
    "        .getOrCreate()\n",
    "\n",
    "spark.sparkContext.setLogLevel(\"ERROR\")"
   ]
  }
 ],
 "metadata": {
  "kernelspec": {
   "display_name": "Python 3 (ipykernel)",
   "language": "python",
   "name": "python3"
  },
  "language_info": {
   "codemirror_mode": {
    "name": "ipython",
    "version": 3
   },
   "file_extension": ".py",
   "mimetype": "text/x-python",
   "name": "python",
   "nbconvert_exporter": "python",
   "pygments_lexer": "ipython3",
   "version": "3.10.10"
  }
 },
 "nbformat": 4,
 "nbformat_minor": 5
}
