{
 "cells": [
  {
   "cell_type": "markdown",
   "id": "c93cec7e-2b1e-4b18-aad5-e4393d376e89",
   "metadata": {},
   "source": [
    "# Zadania 1"
   ]
  },
  {
   "cell_type": "markdown",
   "id": "59eeef32-796a-4c13-8553-f9340cb7b716",
   "metadata": {},
   "source": [
    "1. przygotuj losowo wygenerowany obraz 50x50 pikseli w odcieniach szarości i wyświetl go w notatniku"
   ]
  },
  {
   "cell_type": "code",
   "execution_count": null,
   "id": "c59fac1b-f925-4f5d-957e-e3e4022f4ffd",
   "metadata": {
    "tags": []
   },
   "outputs": [],
   "source": [
    "# solution 1 \n",
    "# ... your code"
   ]
  },
  {
   "cell_type": "code",
   "execution_count": null,
   "id": "a942308e-850d-4ce4-a95c-9d3db5a569df",
   "metadata": {},
   "outputs": [],
   "source": []
  },
  {
   "cell_type": "markdown",
   "id": "4e7ee5a7-980f-406e-9603-97c1144a19b5",
   "metadata": {},
   "source": [
    "2. znajdź liczbę epok dla której sieć neuronowa osiągnie dokładność dwóch miejsc po przecinku dla współczynników wagowych (dla przypomnienia $y=2x-1$)."
   ]
  },
  {
   "cell_type": "code",
   "execution_count": null,
   "id": "4916f1bc-26be-4117-af42-b1dfee8268e1",
   "metadata": {
    "tags": []
   },
   "outputs": [],
   "source": [
    "import tensorflow as tf\n",
    "from tensorflow.keras import Sequential\n",
    "from tensorflow.keras.layers import Dense"
   ]
  },
  {
   "cell_type": "code",
   "execution_count": null,
   "id": "1994e87a-3f2d-47a8-8671-21bf8f284534",
   "metadata": {
    "tags": []
   },
   "outputs": [],
   "source": [
    "import numpy as np\n",
    "xs = np.array([-1,0,1,2,3,4])\n",
    "ys = np.array([-3, -1, 1, 3, 5, 7])"
   ]
  },
  {
   "cell_type": "code",
   "execution_count": null,
   "id": "614655bf-be08-4181-8ef8-02b23c912aef",
   "metadata": {
    "tags": []
   },
   "outputs": [],
   "source": [
    "n_epochs = 10\n",
    "\n",
    "layer_0 = Dense(units=1, input_shape=[1])\n",
    "model = Sequential([layer_0])\n",
    "\n",
    "model.compile(optimizer='sgd', loss='mean_squared_error')\n",
    "model.fit(xs,ys, epochs=n_epochs)"
   ]
  },
  {
   "cell_type": "code",
   "execution_count": null,
   "id": "f48e2469-65b1-45a2-8cbf-9e19e1cb9551",
   "metadata": {
    "tags": []
   },
   "outputs": [],
   "source": [
    "# your code for weights"
   ]
  },
  {
   "cell_type": "code",
   "execution_count": null,
   "id": "b35c4cb6-31b3-4626-9279-f1e2dafdee5b",
   "metadata": {},
   "outputs": [],
   "source": []
  },
  {
   "cell_type": "code",
   "execution_count": null,
   "id": "49ea26dc-726e-4c31-a69c-61dbb6670459",
   "metadata": {},
   "outputs": [],
   "source": []
  },
  {
   "cell_type": "markdown",
   "id": "093462cd-0300-4d15-a1ca-c8d8e697ff41",
   "metadata": {},
   "source": [
    "3. Wczytaj zbiór danych irysów. Wyfiltruj zmienne `sepal_width` i `petal_width` dla dwóch wybranych przez siebie gatunków. Przedstaw wykres gatunków."
   ]
  },
  {
   "cell_type": "code",
   "execution_count": null,
   "id": "a13c788c-30d4-4dc2-80d9-ccec563ec3a9",
   "metadata": {},
   "outputs": [],
   "source": [
    "# Solution"
   ]
  },
  {
   "cell_type": "code",
   "execution_count": null,
   "id": "21269899-e9b8-4cae-bb4d-f6017a58c96a",
   "metadata": {},
   "outputs": [],
   "source": []
  },
  {
   "cell_type": "markdown",
   "id": "71f957bb-d181-44d1-a0b6-cd691f14fffc",
   "metadata": {},
   "source": [
    "4. Jaki model dla otrzymanych danych zaproponujesz. Stwórz listę, gdzie elementami będą przynajmniej 4 modele ML (xgb, tree, random forest....) . Przeprowadź obliczenia definiując funkcję która dla danego modelu określi jakość analizowanego modelu. Przeprowadź wybór modelu w jednej pętli. "
   ]
  },
  {
   "cell_type": "code",
   "execution_count": null,
   "id": "93a1eb3d-71f2-4ddd-85bf-880dcc2543ff",
   "metadata": {},
   "outputs": [],
   "source": [
    "# solution"
   ]
  },
  {
   "cell_type": "code",
   "execution_count": null,
   "id": "ecb0babf-9c2c-44e6-96f1-5867c891e225",
   "metadata": {},
   "outputs": [],
   "source": []
  },
  {
   "cell_type": "markdown",
   "id": "4793c4d3-6b00-4ece-946f-389934369300",
   "metadata": {},
   "source": [
    "5. stwórz dowolną sieć neuronową i porównaj jej wynik z modelami ML "
   ]
  },
  {
   "cell_type": "code",
   "execution_count": null,
   "id": "eec3851b-4ce7-49cd-9518-8a24f1ea6abc",
   "metadata": {},
   "outputs": [],
   "source": [
    "# solution"
   ]
  }
 ],
 "metadata": {
  "kernelspec": {
   "display_name": "Python 3 (ipykernel)",
   "language": "python",
   "name": "python3"
  },
  "language_info": {
   "codemirror_mode": {
    "name": "ipython",
    "version": 3
   },
   "file_extension": ".py",
   "mimetype": "text/x-python",
   "name": "python",
   "nbconvert_exporter": "python",
   "pygments_lexer": "ipython3",
   "version": "3.10.10"
  }
 },
 "nbformat": 4,
 "nbformat_minor": 5
}
