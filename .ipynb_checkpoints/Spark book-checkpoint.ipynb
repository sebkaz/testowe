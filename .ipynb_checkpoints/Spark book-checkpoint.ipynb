{
 "cells": [
  {
   "cell_type": "code",
   "execution_count": 1,
   "id": "acce1b48-dc68-43bd-a50c-ddcc62bdadcc",
   "metadata": {},
   "outputs": [],
   "source": [
    "from pyspark.sql import SparkSession"
   ]
  },
  {
   "cell_type": "code",
   "execution_count": 2,
   "id": "e619b9d9-4e8f-4e82-bba4-dfcb2821c774",
   "metadata": {},
   "outputs": [],
   "source": [
    "spark = SparkSession.builder.getOrCreate()"
   ]
  },
  {
   "cell_type": "code",
   "execution_count": 3,
   "id": "848667a8-f2da-4dd3-a116-1a1f86b4fde4",
   "metadata": {},
   "outputs": [
    {
     "data": {
      "text/html": [
       "\n",
       "            <div>\n",
       "                <p><b>SparkSession - in-memory</b></p>\n",
       "                \n",
       "        <div>\n",
       "            <p><b>SparkContext</b></p>\n",
       "\n",
       "            <p><a href=\"http://2b7b837a7f35:4040\">Spark UI</a></p>\n",
       "\n",
       "            <dl>\n",
       "              <dt>Version</dt>\n",
       "                <dd><code>v3.4.0</code></dd>\n",
       "              <dt>Master</dt>\n",
       "                <dd><code>local[*]</code></dd>\n",
       "              <dt>AppName</dt>\n",
       "                <dd><code>pyspark-shell</code></dd>\n",
       "            </dl>\n",
       "        </div>\n",
       "        \n",
       "            </div>\n",
       "        "
      ],
      "text/plain": [
       "<pyspark.sql.session.SparkSession at 0xffff8f0d6c10>"
      ]
     },
     "execution_count": 3,
     "metadata": {},
     "output_type": "execute_result"
    }
   ],
   "source": [
    "spark"
   ]
  },
  {
   "cell_type": "markdown",
   "id": "6a8b793b-6d9f-487b-a0b9-2fed72862bd8",
   "metadata": {},
   "source": [
    "# wczytywanie schematu danych z pliku \n",
    "\n",
    "Jeżeli nie ma schematu to spark musi wczytać całą tabelę aby ustalić formaty -> czasochłonne. \n",
    "\n",
    "\n",
    "Parquet w metadanych trzyma schemat dlatego po zapisie takich danych nie ma potrzeby ładowania schematu i jego ponownego definiowania. "
   ]
  },
  {
   "cell_type": "code",
   "execution_count": null,
   "id": "7169f782-bcb1-40b9-b7a2-5bf01a5bcbc0",
   "metadata": {},
   "outputs": [],
   "source": []
  },
  {
   "cell_type": "markdown",
   "id": "0fe371bf-7b88-4092-b0f3-befe16af1eae",
   "metadata": {},
   "source": [
    "# filtrowanie \n",
    "\n",
    "```python\n",
    "select(), where(), filter()\n",
    "\n",
    "```"
   ]
  },
  {
   "cell_type": "code",
   "execution_count": null,
   "id": "93dc3c75-d8ca-4cc7-8ebb-c4cdfcb735b2",
   "metadata": {},
   "outputs": [],
   "source": []
  }
 ],
 "metadata": {
  "kernelspec": {
   "display_name": "Python 3 (ipykernel)",
   "language": "python",
   "name": "python3"
  },
  "language_info": {
   "codemirror_mode": {
    "name": "ipython",
    "version": 3
   },
   "file_extension": ".py",
   "mimetype": "text/x-python",
   "name": "python",
   "nbconvert_exporter": "python",
   "pygments_lexer": "ipython3",
   "version": "3.11.3"
  }
 },
 "nbformat": 4,
 "nbformat_minor": 5
}
