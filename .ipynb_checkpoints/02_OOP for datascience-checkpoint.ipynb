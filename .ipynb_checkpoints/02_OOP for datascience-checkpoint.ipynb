{
 "cells": [
  {
   "cell_type": "code",
   "execution_count": null,
   "id": "c673a1bc-d76b-4f5a-8b83-11e3ba4a4d3b",
   "metadata": {
    "tags": []
   },
   "outputs": [],
   "source": [
    "# Objective programming "
   ]
  },
  {
   "cell_type": "code",
   "execution_count": 1,
   "id": "030c5e9d-b5ed-4b76-bc5b-aca00f64d148",
   "metadata": {
    "editable": true,
    "slideshow": {
     "slide_type": ""
    },
    "tags": []
   },
   "outputs": [],
   "source": [
    "# Remove warnings\n",
    "import warnings\n",
    "warnings.filterwarnings('ignore')"
   ]
  },
  {
   "cell_type": "code",
   "execution_count": 2,
   "id": "d7915838-d532-48c3-bf72-ffb850fec2fc",
   "metadata": {
    "tags": []
   },
   "outputs": [
    {
     "data": {
      "text/html": [
       "<div>\n",
       "<style scoped>\n",
       "    .dataframe tbody tr th:only-of-type {\n",
       "        vertical-align: middle;\n",
       "    }\n",
       "\n",
       "    .dataframe tbody tr th {\n",
       "        vertical-align: top;\n",
       "    }\n",
       "\n",
       "    .dataframe thead th {\n",
       "        text-align: right;\n",
       "    }\n",
       "</style>\n",
       "<table border=\"1\" class=\"dataframe\">\n",
       "  <thead>\n",
       "    <tr style=\"text-align: right;\">\n",
       "      <th></th>\n",
       "      <th>sex</th>\n",
       "      <th>race/ethnicity</th>\n",
       "      <th>parental level of education</th>\n",
       "      <th>lunch</th>\n",
       "      <th>test preparation course</th>\n",
       "      <th>math score</th>\n",
       "      <th>reading score</th>\n",
       "      <th>writing score</th>\n",
       "      <th>target</th>\n",
       "    </tr>\n",
       "  </thead>\n",
       "  <tbody>\n",
       "    <tr>\n",
       "      <th>0</th>\n",
       "      <td>female</td>\n",
       "      <td>group B</td>\n",
       "      <td>bachelor's degree</td>\n",
       "      <td>standard</td>\n",
       "      <td>none</td>\n",
       "      <td>72</td>\n",
       "      <td>72</td>\n",
       "      <td>74</td>\n",
       "      <td>0</td>\n",
       "    </tr>\n",
       "    <tr>\n",
       "      <th>1</th>\n",
       "      <td>female</td>\n",
       "      <td>group C</td>\n",
       "      <td>some college</td>\n",
       "      <td>standard</td>\n",
       "      <td>completed</td>\n",
       "      <td>69</td>\n",
       "      <td>90</td>\n",
       "      <td>88</td>\n",
       "      <td>1</td>\n",
       "    </tr>\n",
       "    <tr>\n",
       "      <th>2</th>\n",
       "      <td>female</td>\n",
       "      <td>group B</td>\n",
       "      <td>master's degree</td>\n",
       "      <td>standard</td>\n",
       "      <td>none</td>\n",
       "      <td>90</td>\n",
       "      <td>95</td>\n",
       "      <td>93</td>\n",
       "      <td>0</td>\n",
       "    </tr>\n",
       "    <tr>\n",
       "      <th>3</th>\n",
       "      <td>male</td>\n",
       "      <td>group A</td>\n",
       "      <td>associate's degree</td>\n",
       "      <td>free/reduced</td>\n",
       "      <td>none</td>\n",
       "      <td>47</td>\n",
       "      <td>57</td>\n",
       "      <td>44</td>\n",
       "      <td>1</td>\n",
       "    </tr>\n",
       "    <tr>\n",
       "      <th>4</th>\n",
       "      <td>male</td>\n",
       "      <td>group C</td>\n",
       "      <td>some college</td>\n",
       "      <td>standard</td>\n",
       "      <td>none</td>\n",
       "      <td>76</td>\n",
       "      <td>78</td>\n",
       "      <td>75</td>\n",
       "      <td>0</td>\n",
       "    </tr>\n",
       "  </tbody>\n",
       "</table>\n",
       "</div>"
      ],
      "text/plain": [
       "      sex race/ethnicity parental level of education         lunch  \\\n",
       "0  female        group B           bachelor's degree      standard   \n",
       "1  female        group C                some college      standard   \n",
       "2  female        group B             master's degree      standard   \n",
       "3    male        group A          associate's degree  free/reduced   \n",
       "4    male        group C                some college      standard   \n",
       "\n",
       "  test preparation course  math score  reading score  writing score  target  \n",
       "0                    none          72             72             74       0  \n",
       "1               completed          69             90             88       1  \n",
       "2                    none          90             95             93       0  \n",
       "3                    none          47             57             44       1  \n",
       "4                    none          76             78             75       0  "
      ]
     },
     "execution_count": 2,
     "metadata": {},
     "output_type": "execute_result"
    }
   ],
   "source": [
    "import pandas as pd\n",
    "import numpy as np\n",
    " \n",
    "# przykład danych ustrukturyzowanych\n",
    "df = pd.read_csv(\"students.csv\")\n",
    "df.head()"
   ]
  },
  {
   "cell_type": "code",
   "execution_count": 3,
   "id": "c261c81e-f6e9-4d0b-81d0-cb21e073867a",
   "metadata": {
    "tags": []
   },
   "outputs": [
    {
     "data": {
      "text/plain": [
       "(99,\n",
       " ['sex',\n",
       "  'race/ethnicity',\n",
       "  'parental level of education',\n",
       "  'lunch',\n",
       "  'test preparation course',\n",
       "  'math score',\n",
       "  'reading score',\n",
       "  'writing score',\n",
       "  'target'])"
      ]
     },
     "execution_count": 3,
     "metadata": {},
     "output_type": "execute_result"
    }
   ],
   "source": [
    "len(df), list(df.columns)"
   ]
  },
  {
   "cell_type": "code",
   "execution_count": 4,
   "id": "eb242a9d-e60f-4bd1-9a25-86b0cb8d652c",
   "metadata": {
    "tags": []
   },
   "outputs": [],
   "source": [
    "X = df.drop(columns=['target'])\n",
    "y = df['target']"
   ]
  },
  {
   "cell_type": "code",
   "execution_count": 5,
   "id": "4f406f49-baba-45ca-8be6-c4ee3b1131ff",
   "metadata": {
    "tags": []
   },
   "outputs": [],
   "source": [
    "from sklearn.pipeline import Pipeline\n",
    "from sklearn.compose import ColumnTransformer\n",
    "from sklearn.preprocessing import StandardScaler\n",
    "from sklearn.impute import SimpleImputer\n",
    "from sklearn.preprocessing import OneHotEncoder\n",
    "\n",
    "numeric_features = ['math score','reading score','writing score']\n",
    "categorical_features = ['sex','race/ethnicity','parental level of education','lunch','test preparation course']"
   ]
  },
  {
   "cell_type": "code",
   "execution_count": 6,
   "id": "61000787-1e82-40c5-8299-a7778e48f7f4",
   "metadata": {
    "tags": []
   },
   "outputs": [],
   "source": [
    "numeric_transformer = Pipeline(steps=[\n",
    "    (\"imputer\", SimpleImputer(strategy=\"mean\")),\n",
    "    (\"scaler\", StandardScaler())\n",
    "])\n",
    "\n",
    "categorical_transformer = OneHotEncoder(handle_unknown=\"ignore\")"
   ]
  },
  {
   "cell_type": "code",
   "execution_count": 7,
   "id": "96f00ced-e622-450e-a76d-0182d23cb881",
   "metadata": {
    "tags": []
   },
   "outputs": [],
   "source": [
    "preprocessor = ColumnTransformer(transformers=[\n",
    "    (\"num_trans\", numeric_transformer, numeric_features),\n",
    "    (\"cat_trans\", categorical_transformer, categorical_features)\n",
    "])\n",
    "\n",
    "from sklearn.linear_model import LogisticRegression\n",
    "from sklearn.ensemble import RandomForestClassifier\n",
    "\n",
    "pipeline = Pipeline(steps=[\n",
    "    (\"preproc\", preprocessor),\n",
    "    (\"model\", LogisticRegression())\n",
    "])"
   ]
  },
  {
   "cell_type": "code",
   "execution_count": 8,
   "id": "6bea2dab-5d42-471c-8893-07273462d171",
   "metadata": {
    "tags": []
   },
   "outputs": [
    {
     "data": {
      "text/html": [
       "<style>#sk-container-id-1 {color: black;background-color: white;}#sk-container-id-1 pre{padding: 0;}#sk-container-id-1 div.sk-toggleable {background-color: white;}#sk-container-id-1 label.sk-toggleable__label {cursor: pointer;display: block;width: 100%;margin-bottom: 0;padding: 0.3em;box-sizing: border-box;text-align: center;}#sk-container-id-1 label.sk-toggleable__label-arrow:before {content: \"▸\";float: left;margin-right: 0.25em;color: #696969;}#sk-container-id-1 label.sk-toggleable__label-arrow:hover:before {color: black;}#sk-container-id-1 div.sk-estimator:hover label.sk-toggleable__label-arrow:before {color: black;}#sk-container-id-1 div.sk-toggleable__content {max-height: 0;max-width: 0;overflow: hidden;text-align: left;background-color: #f0f8ff;}#sk-container-id-1 div.sk-toggleable__content pre {margin: 0.2em;color: black;border-radius: 0.25em;background-color: #f0f8ff;}#sk-container-id-1 input.sk-toggleable__control:checked~div.sk-toggleable__content {max-height: 200px;max-width: 100%;overflow: auto;}#sk-container-id-1 input.sk-toggleable__control:checked~label.sk-toggleable__label-arrow:before {content: \"▾\";}#sk-container-id-1 div.sk-estimator input.sk-toggleable__control:checked~label.sk-toggleable__label {background-color: #d4ebff;}#sk-container-id-1 div.sk-label input.sk-toggleable__control:checked~label.sk-toggleable__label {background-color: #d4ebff;}#sk-container-id-1 input.sk-hidden--visually {border: 0;clip: rect(1px 1px 1px 1px);clip: rect(1px, 1px, 1px, 1px);height: 1px;margin: -1px;overflow: hidden;padding: 0;position: absolute;width: 1px;}#sk-container-id-1 div.sk-estimator {font-family: monospace;background-color: #f0f8ff;border: 1px dotted black;border-radius: 0.25em;box-sizing: border-box;margin-bottom: 0.5em;}#sk-container-id-1 div.sk-estimator:hover {background-color: #d4ebff;}#sk-container-id-1 div.sk-parallel-item::after {content: \"\";width: 100%;border-bottom: 1px solid gray;flex-grow: 1;}#sk-container-id-1 div.sk-label:hover label.sk-toggleable__label {background-color: #d4ebff;}#sk-container-id-1 div.sk-serial::before {content: \"\";position: absolute;border-left: 1px solid gray;box-sizing: border-box;top: 0;bottom: 0;left: 50%;z-index: 0;}#sk-container-id-1 div.sk-serial {display: flex;flex-direction: column;align-items: center;background-color: white;padding-right: 0.2em;padding-left: 0.2em;position: relative;}#sk-container-id-1 div.sk-item {position: relative;z-index: 1;}#sk-container-id-1 div.sk-parallel {display: flex;align-items: stretch;justify-content: center;background-color: white;position: relative;}#sk-container-id-1 div.sk-item::before, #sk-container-id-1 div.sk-parallel-item::before {content: \"\";position: absolute;border-left: 1px solid gray;box-sizing: border-box;top: 0;bottom: 0;left: 50%;z-index: -1;}#sk-container-id-1 div.sk-parallel-item {display: flex;flex-direction: column;z-index: 1;position: relative;background-color: white;}#sk-container-id-1 div.sk-parallel-item:first-child::after {align-self: flex-end;width: 50%;}#sk-container-id-1 div.sk-parallel-item:last-child::after {align-self: flex-start;width: 50%;}#sk-container-id-1 div.sk-parallel-item:only-child::after {width: 0;}#sk-container-id-1 div.sk-dashed-wrapped {border: 1px dashed gray;margin: 0 0.4em 0.5em 0.4em;box-sizing: border-box;padding-bottom: 0.4em;background-color: white;}#sk-container-id-1 div.sk-label label {font-family: monospace;font-weight: bold;display: inline-block;line-height: 1.2em;}#sk-container-id-1 div.sk-label-container {text-align: center;}#sk-container-id-1 div.sk-container {/* jupyter's `normalize.less` sets `[hidden] { display: none; }` but bootstrap.min.css set `[hidden] { display: none !important; }` so we also need the `!important` here to be able to override the default hidden behavior on the sphinx rendered scikit-learn.org. See: https://github.com/scikit-learn/scikit-learn/issues/21755 */display: inline-block !important;position: relative;}#sk-container-id-1 div.sk-text-repr-fallback {display: none;}</style><div id=\"sk-container-id-1\" class=\"sk-top-container\"><div class=\"sk-text-repr-fallback\"><pre>Pipeline(steps=[(&#x27;preproc&#x27;,\n",
       "                 ColumnTransformer(transformers=[(&#x27;num_trans&#x27;,\n",
       "                                                  Pipeline(steps=[(&#x27;imputer&#x27;,\n",
       "                                                                   SimpleImputer()),\n",
       "                                                                  (&#x27;scaler&#x27;,\n",
       "                                                                   StandardScaler())]),\n",
       "                                                  [&#x27;math score&#x27;,\n",
       "                                                   &#x27;reading score&#x27;,\n",
       "                                                   &#x27;writing score&#x27;]),\n",
       "                                                 (&#x27;cat_trans&#x27;,\n",
       "                                                  OneHotEncoder(handle_unknown=&#x27;ignore&#x27;),\n",
       "                                                  [&#x27;sex&#x27;, &#x27;race/ethnicity&#x27;,\n",
       "                                                   &#x27;parental level of &#x27;\n",
       "                                                   &#x27;education&#x27;,\n",
       "                                                   &#x27;lunch&#x27;,\n",
       "                                                   &#x27;test preparation &#x27;\n",
       "                                                   &#x27;course&#x27;])])),\n",
       "                (&#x27;model&#x27;, LogisticRegression())])</pre><b>In a Jupyter environment, please rerun this cell to show the HTML representation or trust the notebook. <br />On GitHub, the HTML representation is unable to render, please try loading this page with nbviewer.org.</b></div><div class=\"sk-container\" hidden><div class=\"sk-item sk-dashed-wrapped\"><div class=\"sk-label-container\"><div class=\"sk-label sk-toggleable\"><input class=\"sk-toggleable__control sk-hidden--visually\" id=\"sk-estimator-id-1\" type=\"checkbox\" ><label for=\"sk-estimator-id-1\" class=\"sk-toggleable__label sk-toggleable__label-arrow\">Pipeline</label><div class=\"sk-toggleable__content\"><pre>Pipeline(steps=[(&#x27;preproc&#x27;,\n",
       "                 ColumnTransformer(transformers=[(&#x27;num_trans&#x27;,\n",
       "                                                  Pipeline(steps=[(&#x27;imputer&#x27;,\n",
       "                                                                   SimpleImputer()),\n",
       "                                                                  (&#x27;scaler&#x27;,\n",
       "                                                                   StandardScaler())]),\n",
       "                                                  [&#x27;math score&#x27;,\n",
       "                                                   &#x27;reading score&#x27;,\n",
       "                                                   &#x27;writing score&#x27;]),\n",
       "                                                 (&#x27;cat_trans&#x27;,\n",
       "                                                  OneHotEncoder(handle_unknown=&#x27;ignore&#x27;),\n",
       "                                                  [&#x27;sex&#x27;, &#x27;race/ethnicity&#x27;,\n",
       "                                                   &#x27;parental level of &#x27;\n",
       "                                                   &#x27;education&#x27;,\n",
       "                                                   &#x27;lunch&#x27;,\n",
       "                                                   &#x27;test preparation &#x27;\n",
       "                                                   &#x27;course&#x27;])])),\n",
       "                (&#x27;model&#x27;, LogisticRegression())])</pre></div></div></div><div class=\"sk-serial\"><div class=\"sk-item sk-dashed-wrapped\"><div class=\"sk-label-container\"><div class=\"sk-label sk-toggleable\"><input class=\"sk-toggleable__control sk-hidden--visually\" id=\"sk-estimator-id-2\" type=\"checkbox\" ><label for=\"sk-estimator-id-2\" class=\"sk-toggleable__label sk-toggleable__label-arrow\">preproc: ColumnTransformer</label><div class=\"sk-toggleable__content\"><pre>ColumnTransformer(transformers=[(&#x27;num_trans&#x27;,\n",
       "                                 Pipeline(steps=[(&#x27;imputer&#x27;, SimpleImputer()),\n",
       "                                                 (&#x27;scaler&#x27;, StandardScaler())]),\n",
       "                                 [&#x27;math score&#x27;, &#x27;reading score&#x27;,\n",
       "                                  &#x27;writing score&#x27;]),\n",
       "                                (&#x27;cat_trans&#x27;,\n",
       "                                 OneHotEncoder(handle_unknown=&#x27;ignore&#x27;),\n",
       "                                 [&#x27;sex&#x27;, &#x27;race/ethnicity&#x27;,\n",
       "                                  &#x27;parental level of education&#x27;, &#x27;lunch&#x27;,\n",
       "                                  &#x27;test preparation course&#x27;])])</pre></div></div></div><div class=\"sk-parallel\"><div class=\"sk-parallel-item\"><div class=\"sk-item\"><div class=\"sk-label-container\"><div class=\"sk-label sk-toggleable\"><input class=\"sk-toggleable__control sk-hidden--visually\" id=\"sk-estimator-id-3\" type=\"checkbox\" ><label for=\"sk-estimator-id-3\" class=\"sk-toggleable__label sk-toggleable__label-arrow\">num_trans</label><div class=\"sk-toggleable__content\"><pre>[&#x27;math score&#x27;, &#x27;reading score&#x27;, &#x27;writing score&#x27;]</pre></div></div></div><div class=\"sk-serial\"><div class=\"sk-item\"><div class=\"sk-serial\"><div class=\"sk-item\"><div class=\"sk-estimator sk-toggleable\"><input class=\"sk-toggleable__control sk-hidden--visually\" id=\"sk-estimator-id-4\" type=\"checkbox\" ><label for=\"sk-estimator-id-4\" class=\"sk-toggleable__label sk-toggleable__label-arrow\">SimpleImputer</label><div class=\"sk-toggleable__content\"><pre>SimpleImputer()</pre></div></div></div><div class=\"sk-item\"><div class=\"sk-estimator sk-toggleable\"><input class=\"sk-toggleable__control sk-hidden--visually\" id=\"sk-estimator-id-5\" type=\"checkbox\" ><label for=\"sk-estimator-id-5\" class=\"sk-toggleable__label sk-toggleable__label-arrow\">StandardScaler</label><div class=\"sk-toggleable__content\"><pre>StandardScaler()</pre></div></div></div></div></div></div></div></div><div class=\"sk-parallel-item\"><div class=\"sk-item\"><div class=\"sk-label-container\"><div class=\"sk-label sk-toggleable\"><input class=\"sk-toggleable__control sk-hidden--visually\" id=\"sk-estimator-id-6\" type=\"checkbox\" ><label for=\"sk-estimator-id-6\" class=\"sk-toggleable__label sk-toggleable__label-arrow\">cat_trans</label><div class=\"sk-toggleable__content\"><pre>[&#x27;sex&#x27;, &#x27;race/ethnicity&#x27;, &#x27;parental level of education&#x27;, &#x27;lunch&#x27;, &#x27;test preparation course&#x27;]</pre></div></div></div><div class=\"sk-serial\"><div class=\"sk-item\"><div class=\"sk-estimator sk-toggleable\"><input class=\"sk-toggleable__control sk-hidden--visually\" id=\"sk-estimator-id-7\" type=\"checkbox\" ><label for=\"sk-estimator-id-7\" class=\"sk-toggleable__label sk-toggleable__label-arrow\">OneHotEncoder</label><div class=\"sk-toggleable__content\"><pre>OneHotEncoder(handle_unknown=&#x27;ignore&#x27;)</pre></div></div></div></div></div></div></div></div><div class=\"sk-item\"><div class=\"sk-estimator sk-toggleable\"><input class=\"sk-toggleable__control sk-hidden--visually\" id=\"sk-estimator-id-8\" type=\"checkbox\" ><label for=\"sk-estimator-id-8\" class=\"sk-toggleable__label sk-toggleable__label-arrow\">LogisticRegression</label><div class=\"sk-toggleable__content\"><pre>LogisticRegression()</pre></div></div></div></div></div></div></div>"
      ],
      "text/plain": [
       "Pipeline(steps=[('preproc',\n",
       "                 ColumnTransformer(transformers=[('num_trans',\n",
       "                                                  Pipeline(steps=[('imputer',\n",
       "                                                                   SimpleImputer()),\n",
       "                                                                  ('scaler',\n",
       "                                                                   StandardScaler())]),\n",
       "                                                  ['math score',\n",
       "                                                   'reading score',\n",
       "                                                   'writing score']),\n",
       "                                                 ('cat_trans',\n",
       "                                                  OneHotEncoder(handle_unknown='ignore'),\n",
       "                                                  ['sex', 'race/ethnicity',\n",
       "                                                   'parental level of '\n",
       "                                                   'education',\n",
       "                                                   'lunch',\n",
       "                                                   'test preparation '\n",
       "                                                   'course'])])),\n",
       "                ('model', LogisticRegression())])"
      ]
     },
     "execution_count": 8,
     "metadata": {},
     "output_type": "execute_result"
    }
   ],
   "source": [
    "from sklearn import set_config\n",
    "set_config(display='diagram')\n",
    "pipeline"
   ]
  },
  {
   "cell_type": "code",
   "execution_count": 9,
   "id": "ab4017c0-3126-4e70-ab74-535bcf250902",
   "metadata": {
    "tags": []
   },
   "outputs": [
    {
     "name": "stdout",
     "output_type": "stream",
     "text": [
      "0.45\n"
     ]
    }
   ],
   "source": [
    "from sklearn.model_selection import train_test_split\n",
    "X_tr, X_test, y_tr, y_test = train_test_split(X,y,\n",
    "test_size=0.2, random_state=42)\n",
    "\n",
    "pipeline.fit(X_tr, y_tr)\n",
    "\n",
    "score = pipeline.score(X_test, y_test)\n",
    "print(score)"
   ]
  },
  {
   "cell_type": "code",
   "execution_count": 10,
   "id": "1f619038-c6fc-441e-9a1c-3c2469d30200",
   "metadata": {
    "tags": []
   },
   "outputs": [
    {
     "data": {
      "text/plain": [
       "['your_pipeline.pkl']"
      ]
     },
     "execution_count": 10,
     "metadata": {},
     "output_type": "execute_result"
    }
   ],
   "source": [
    "import joblib\n",
    "joblib.dump(pipeline, 'your_pipeline.pkl')"
   ]
  },
  {
   "cell_type": "code",
   "execution_count": 11,
   "id": "4ddd6611-e0b5-431e-ae12-9a2ce2ad159a",
   "metadata": {
    "tags": []
   },
   "outputs": [
    {
     "name": "stdout",
     "output_type": "stream",
     "text": [
      "Fitting 2 folds for each of 30 candidates, totalling 60 fits\n"
     ]
    },
    {
     "data": {
      "text/plain": [
       "{'model': RandomForestClassifier(min_samples_leaf=0.1, n_estimators=500),\n",
       " 'model__min_samples_leaf': 0.1,\n",
       " 'model__n_estimators': 500,\n",
       " 'preproc__num_trans__imputer__strategy': 'median'}"
      ]
     },
     "execution_count": 11,
     "metadata": {},
     "output_type": "execute_result"
    }
   ],
   "source": [
    "param_grid = [\n",
    "              {\"preproc__num_trans__imputer__strategy\":\n",
    "              [\"mean\",\"median\"],\n",
    "               \"model__n_estimators\":[2,5,10,100,500],\n",
    "               \"model__min_samples_leaf\": [1, 0.1],\n",
    "               \"model\":[RandomForestClassifier()]},\n",
    "              {\"preproc__num_trans__imputer__strategy\":\n",
    "                [\"mean\",\"median\"],\n",
    "               \"model__C\":[0.1,1.0,10.0,100.0,1000],\n",
    "                \"model\":[LogisticRegression()]}\n",
    "]\n",
    "\n",
    "from sklearn.model_selection import GridSearchCV\n",
    "\n",
    "\n",
    "grid_search = GridSearchCV(pipeline, param_grid,\n",
    "cv=2, verbose=1, n_jobs=-1)\n",
    "\n",
    "\n",
    "grid_search.fit(X_tr, y_tr)\n",
    "\n",
    "grid_search.best_params_"
   ]
  },
  {
   "cell_type": "code",
   "execution_count": 12,
   "id": "e3f2d1ab-1604-4289-ac28-294500526867",
   "metadata": {
    "tags": []
   },
   "outputs": [
    {
     "data": {
      "text/plain": [
       "(0.5, 0.7468354430379747)"
      ]
     },
     "execution_count": 12,
     "metadata": {},
     "output_type": "execute_result"
    }
   ],
   "source": [
    "grid_search.score(X_test, y_test), grid_search.score(X_tr, y_tr)"
   ]
  },
  {
   "cell_type": "code",
   "execution_count": 13,
   "id": "8afa84fe-7d0d-4c01-bd47-e096a2f0a2c0",
   "metadata": {
    "tags": []
   },
   "outputs": [],
   "source": [
    "df['bad_feature'] = 1"
   ]
  },
  {
   "cell_type": "code",
   "execution_count": 14,
   "id": "9245a5f0-d216-4e84-9e07-810d35c6745a",
   "metadata": {
    "tags": []
   },
   "outputs": [],
   "source": [
    "X = df.drop(columns=['target'])\n",
    "y = df['target']\n",
    "X_tr, X_test, y_tr, y_test = train_test_split(X,y,\n",
    "test_size=0.2, random_state=42)"
   ]
  },
  {
   "cell_type": "code",
   "execution_count": 15,
   "id": "b8042658-be5f-4b73-b9d2-96d89dd22f75",
   "metadata": {
    "tags": []
   },
   "outputs": [],
   "source": [
    "numeric_features = ['math score','reading score','writing score', 'bad_feature']"
   ]
  },
  {
   "cell_type": "code",
   "execution_count": 16,
   "id": "4f71a34d-2769-432b-9cb7-40cebda21138",
   "metadata": {
    "tags": []
   },
   "outputs": [
    {
     "name": "stdout",
     "output_type": "stream",
     "text": [
      "Fitting 2 folds for each of 30 candidates, totalling 60 fits\n"
     ]
    },
    {
     "data": {
      "text/plain": [
       "{'model': RandomForestClassifier(min_samples_leaf=0.1, n_estimators=5),\n",
       " 'model__min_samples_leaf': 0.1,\n",
       " 'model__n_estimators': 5,\n",
       " 'preproc__num_trans__imputer__strategy': 'median'}"
      ]
     },
     "execution_count": 16,
     "metadata": {},
     "output_type": "execute_result"
    }
   ],
   "source": [
    "grid_search = GridSearchCV(pipeline, param_grid,\n",
    "cv=2, verbose=1, n_jobs=-1)\n",
    "\n",
    "grid_search.fit(X_tr, y_tr)\n",
    "\n",
    "grid_search.best_params_"
   ]
  },
  {
   "cell_type": "code",
   "execution_count": 17,
   "id": "e16b8ab4-96e7-4b06-8c52-6706ba623808",
   "metadata": {
    "tags": []
   },
   "outputs": [
    {
     "data": {
      "text/plain": [
       "(0.5949367088607594, 0.45)"
      ]
     },
     "execution_count": 17,
     "metadata": {},
     "output_type": "execute_result"
    }
   ],
   "source": [
    "grid_search.score(X_tr, y_tr), grid_search.score(X_test, y_test)"
   ]
  },
  {
   "cell_type": "code",
   "execution_count": 18,
   "id": "fc50cdc2-b188-40b3-8679-74921553fbad",
   "metadata": {
    "tags": []
   },
   "outputs": [],
   "source": [
    "# your own transformator class\n",
    "\n",
    "from sklearn.base import BaseEstimator, TransformerMixin\n",
    "\n",
    "class DelOneValueFeature(BaseEstimator, TransformerMixin):\n",
    "    \"\"\"Description\"\"\"\n",
    "    def __init__(self):\n",
    "        self.one_value_features = []\n",
    "        \n",
    "    def fit(self, X, y=None):\n",
    "        for feature in X.columns:\n",
    "            unique = X[feature].unique()\n",
    "            if len(unique)==1:\n",
    "                self.one_value_features.append(feature)\n",
    "        return self\n",
    "    def transform(self, X, y=None):\n",
    "        if not self.one_value_features:\n",
    "            return X\n",
    "        return X.drop(axis='columns', columns=self.one_value_features)"
   ]
  },
  {
   "cell_type": "code",
   "execution_count": 19,
   "id": "d1a80de2-d96a-454a-bffa-86cb290d0a18",
   "metadata": {
    "tags": []
   },
   "outputs": [],
   "source": [
    "pipeline2 = Pipeline([\n",
    "    (\"moja_transformacja\",DelOneValueFeature()),\n",
    "    (\"preprocesser\", preprocessor),\n",
    "    (\"classifier\", LogisticRegression())])\n",
    "    \n",
    "pipeline2.fit(X_tr, y_tr)\n",
    "score2 = pipeline2.score(X_test, y_test)"
   ]
  },
  {
   "cell_type": "code",
   "execution_count": 20,
   "id": "c9e5ed53-9c5f-4832-bbac-38849d554c33",
   "metadata": {
    "tags": []
   },
   "outputs": [
    {
     "data": {
      "text/plain": [
       "0.45"
      ]
     },
     "execution_count": 20,
     "metadata": {},
     "output_type": "execute_result"
    }
   ],
   "source": [
    "score2"
   ]
  },
  {
   "cell_type": "code",
   "execution_count": 21,
   "id": "97f7b43f-c8b0-448d-8a97-e7c64a0b26c6",
   "metadata": {
    "tags": []
   },
   "outputs": [],
   "source": [
    "# przykład danych nieustrukturyzowanych \n",
    "\n",
    "import tensorflow as tf"
   ]
  },
  {
   "cell_type": "code",
   "execution_count": 22,
   "id": "b141b7aa-d8f1-4249-8e29-090c168e49db",
   "metadata": {
    "tags": []
   },
   "outputs": [],
   "source": [
    "class myCallback(tf.keras.callbacks.Callback):\n",
    "    def on_epoch_end(self, epoch, logs={}):\n",
    "        if logs.get('accuracy') > 0.95:\n",
    "            print(\"\\n osiągnięto 95% - zakończ trenowanie\")\n",
    "            self.model.stop_training = True"
   ]
  },
  {
   "cell_type": "code",
   "execution_count": 23,
   "id": "d3590d36-ba9d-449a-b04d-cd24adf4ef7b",
   "metadata": {
    "tags": []
   },
   "outputs": [],
   "source": [
    "callbacks = myCallback()\n",
    "mnist = tf.keras.datasets.fashion_mnist"
   ]
  },
  {
   "cell_type": "code",
   "execution_count": 24,
   "id": "60799de0-40a3-42d5-ad3f-ae41f531f2f1",
   "metadata": {
    "tags": []
   },
   "outputs": [],
   "source": [
    "(tr_im, tr_lab),(te_im, te_lab) = mnist.load_data()\n",
    "tr_im = tr_im/255\n",
    "te_im = te_im/255\n",
    "\n",
    "model = tf.keras.models.Sequential([\n",
    "    tf.keras.layers.Flatten(),\n",
    "    tf.keras.layers.Dense(128, activation=tf.nn.relu),\n",
    "    tf.keras.layers.Dense(10, activation=tf.nn.softmax)\n",
    "])\n"
   ]
  },
  {
   "cell_type": "code",
   "execution_count": 25,
   "id": "1b5221cc-057d-4ab8-af12-d9f9e82870b1",
   "metadata": {
    "tags": []
   },
   "outputs": [],
   "source": [
    "model.compile(optimizer=\"adam\", loss=\"sparse_categorical_crossentropy\", metrics=['accuracy'])"
   ]
  },
  {
   "cell_type": "code",
   "execution_count": 26,
   "id": "ac85171b-4e4e-4507-af7d-b63bbc1f0878",
   "metadata": {
    "tags": []
   },
   "outputs": [
    {
     "name": "stdout",
     "output_type": "stream",
     "text": [
      "Epoch 1/40\n",
      "1875/1875 [==============================] - 3s 1ms/step - loss: 0.4918 - accuracy: 0.8274\n",
      "Epoch 2/40\n",
      "1875/1875 [==============================] - 3s 1ms/step - loss: 0.3726 - accuracy: 0.8659\n",
      "Epoch 3/40\n",
      "1875/1875 [==============================] - 3s 1ms/step - loss: 0.3350 - accuracy: 0.8763\n",
      "Epoch 4/40\n",
      "1875/1875 [==============================] - 3s 1ms/step - loss: 0.3127 - accuracy: 0.8856\n",
      "Epoch 5/40\n",
      "1875/1875 [==============================] - 3s 1ms/step - loss: 0.2965 - accuracy: 0.8904\n",
      "Epoch 6/40\n",
      "1875/1875 [==============================] - 3s 1ms/step - loss: 0.2789 - accuracy: 0.8964\n",
      "Epoch 7/40\n",
      "1875/1875 [==============================] - 3s 1ms/step - loss: 0.2680 - accuracy: 0.9005\n",
      "Epoch 8/40\n",
      "1875/1875 [==============================] - 3s 1ms/step - loss: 0.2566 - accuracy: 0.9046\n",
      "Epoch 9/40\n",
      "1875/1875 [==============================] - 3s 1ms/step - loss: 0.2472 - accuracy: 0.9079\n",
      "Epoch 10/40\n",
      "1875/1875 [==============================] - 3s 1ms/step - loss: 0.2380 - accuracy: 0.9121\n",
      "Epoch 11/40\n",
      "1875/1875 [==============================] - 3s 1ms/step - loss: 0.2316 - accuracy: 0.9128\n",
      "Epoch 12/40\n",
      "1875/1875 [==============================] - 3s 2ms/step - loss: 0.2228 - accuracy: 0.9173\n",
      "Epoch 13/40\n",
      "1875/1875 [==============================] - 3s 1ms/step - loss: 0.2142 - accuracy: 0.9195\n",
      "Epoch 14/40\n",
      "1875/1875 [==============================] - 3s 1ms/step - loss: 0.2108 - accuracy: 0.9210\n",
      "Epoch 15/40\n",
      "1875/1875 [==============================] - 3s 1ms/step - loss: 0.2058 - accuracy: 0.9221\n",
      "Epoch 16/40\n",
      "1875/1875 [==============================] - 3s 1ms/step - loss: 0.1978 - accuracy: 0.9258\n",
      "Epoch 17/40\n",
      "1875/1875 [==============================] - 3s 1ms/step - loss: 0.1925 - accuracy: 0.9277\n",
      "Epoch 18/40\n",
      "1875/1875 [==============================] - 3s 1ms/step - loss: 0.1868 - accuracy: 0.9298\n",
      "Epoch 19/40\n",
      "1875/1875 [==============================] - 3s 1ms/step - loss: 0.1815 - accuracy: 0.9325\n",
      "Epoch 20/40\n",
      "1875/1875 [==============================] - 3s 1ms/step - loss: 0.1773 - accuracy: 0.9335\n",
      "Epoch 21/40\n",
      "1875/1875 [==============================] - 3s 1ms/step - loss: 0.1749 - accuracy: 0.9346\n",
      "Epoch 22/40\n",
      "1875/1875 [==============================] - 3s 1ms/step - loss: 0.1699 - accuracy: 0.9355\n",
      "Epoch 23/40\n",
      "1875/1875 [==============================] - 3s 1ms/step - loss: 0.1647 - accuracy: 0.9387\n",
      "Epoch 24/40\n",
      "1875/1875 [==============================] - 3s 1ms/step - loss: 0.1614 - accuracy: 0.9394\n",
      "Epoch 25/40\n",
      "1875/1875 [==============================] - 3s 1ms/step - loss: 0.1584 - accuracy: 0.9407\n",
      "Epoch 26/40\n",
      "1875/1875 [==============================] - 3s 1ms/step - loss: 0.1540 - accuracy: 0.9417\n",
      "Epoch 27/40\n",
      "1875/1875 [==============================] - 3s 1ms/step - loss: 0.1496 - accuracy: 0.9432\n",
      "Epoch 28/40\n",
      "1875/1875 [==============================] - 3s 1ms/step - loss: 0.1482 - accuracy: 0.9440\n",
      "Epoch 29/40\n",
      "1875/1875 [==============================] - 3s 1ms/step - loss: 0.1434 - accuracy: 0.9464\n",
      "Epoch 30/40\n",
      "1875/1875 [==============================] - 3s 1ms/step - loss: 0.1405 - accuracy: 0.9468\n",
      "Epoch 31/40\n",
      "1875/1875 [==============================] - 3s 1ms/step - loss: 0.1391 - accuracy: 0.9466\n",
      "Epoch 32/40\n",
      "1875/1875 [==============================] - 3s 1ms/step - loss: 0.1353 - accuracy: 0.9488\n",
      "Epoch 33/40\n",
      "1844/1875 [============================>.] - ETA: 0s - loss: 0.1325 - accuracy: 0.9506osiągnięto 95% - zakończ trenowanie\n",
      "1875/1875 [==============================] - 3s 1ms/step - loss: 0.1327 - accuracy: 0.9505\n"
     ]
    },
    {
     "data": {
      "text/plain": [
       "<keras.callbacks.History at 0xffff0cf56410>"
      ]
     },
     "execution_count": 26,
     "metadata": {},
     "output_type": "execute_result"
    }
   ],
   "source": [
    "model.fit(tr_im, tr_lab, epochs=40, callbacks=[callbacks])"
   ]
  },
  {
   "cell_type": "code",
   "execution_count": null,
   "id": "c29d8a9f-a8ef-42e8-b6b1-67fea88bce88",
   "metadata": {
    "editable": true,
    "slideshow": {
     "slide_type": ""
    },
    "tags": []
   },
   "outputs": [],
   "source": []
  }
 ],
 "metadata": {
  "kernelspec": {
   "display_name": "Python 3 (ipykernel)",
   "language": "python",
   "name": "python3"
  },
  "language_info": {
   "codemirror_mode": {
    "name": "ipython",
    "version": 3
   },
   "file_extension": ".py",
   "mimetype": "text/x-python",
   "name": "python",
   "nbconvert_exporter": "python",
   "pygments_lexer": "ipython3",
   "version": "3.11.3"
  }
 },
 "nbformat": 4,
 "nbformat_minor": 5
}
