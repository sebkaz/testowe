{
 "cells": [
  {
   "cell_type": "markdown",
   "id": "96800998-f039-4afe-b114-d6215fe7d94b",
   "metadata": {},
   "source": [
    "# Dane ustrukturyzowane i nieustrukturyzowane\n",
    "\n",
    "Wprowadzenie do danych w Pythonie. Zmienne, listy, tablice numpy jako obiekty przechowywania danych. Dane wprowadzane ręcznie. \n",
    "Przykład obrazka jako danych nieustrukturyzowanych (może dodać wektoryzację tekstu). \n",
    "Dane tabelaryczne z jedną zmienną i zmienną celu. \n",
    "\n",
    "## Bazy SQL i noSQL\n",
    "\n",
    "## modele ML i sieci neuronowe \n",
    "\n",
    "## obiektowe aspekty pythona i sklearn - perceptron\n",
    "\n",
    "## API + Docker \n",
    "\n",
    "## PUBlish SUBscribe"
   ]
  },
  {
   "cell_type": "code",
   "execution_count": null,
   "id": "8b60b2f3-5d80-4e83-b3bc-211a4e711160",
   "metadata": {},
   "outputs": [],
   "source": []
  }
 ],
 "metadata": {
  "kernelspec": {
   "display_name": "Python 3 (ipykernel)",
   "language": "python",
   "name": "python3"
  },
  "language_info": {
   "codemirror_mode": {
    "name": "ipython",
    "version": 3
   },
   "file_extension": ".py",
   "mimetype": "text/x-python",
   "name": "python",
   "nbconvert_exporter": "python",
   "pygments_lexer": "ipython3",
   "version": "3.10.10"
  }
 },
 "nbformat": 4,
 "nbformat_minor": 5
}
